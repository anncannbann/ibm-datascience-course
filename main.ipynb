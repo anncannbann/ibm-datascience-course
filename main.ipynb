{
 "cells": [
  {
   "cell_type": "code",
   "execution_count": 1,
   "id": "5b3c02ce-2e2d-455e-bfd8-b03257b1acaf",
   "metadata": {},
   "outputs": [
    {
     "name": "stdout",
     "output_type": "stream",
     "text": [
      "Hello World\n"
     ]
    }
   ],
   "source": [
    "print('Hello World')\n"
   ]
  },
  {
   "cell_type": "code",
   "execution_count": null,
   "id": "774b1ef0-c709-4bf2-8cbc-193a09d5f80f",
   "metadata": {},
   "outputs": [],
   "source": []
  },
  {
   "cell_type": "code",
   "execution_count": null,
   "id": "41ba529b-bce6-4d88-bbe7-422588829748",
   "metadata": {},
   "outputs": [],
   "source": []
  },
  {
   "cell_type": "code",
   "execution_count": 1,
   "id": "0c731dc8-b3ed-4ee5-b212-c40fcf6ae599",
   "metadata": {},
   "outputs": [
    {
     "data": {
      "text/plain": [
       "3"
      ]
     },
     "execution_count": 1,
     "metadata": {},
     "output_type": "execute_result"
    }
   ],
   "source": [
    "def do_math(a, b,kind='add'):\n",
    "  if (kind=='add'):\n",
    "    return a+b\n",
    "  else:\n",
    "    return a-b\n",
    "\n",
    "do_math(1, 2)"
   ]
  },
  {
   "cell_type": "code",
   "execution_count": null,
   "id": "ae3b958b-0cec-4730-b3d8-33670d2e0db9",
   "metadata": {},
   "outputs": [],
   "source": []
  }
 ],
 "metadata": {
  "kernelspec": {
   "display_name": "Python 3",
   "language": "python",
   "name": "python3"
  },
  "language_info": {
   "codemirror_mode": {
    "name": "ipython",
    "version": 3
   },
   "file_extension": ".py",
   "mimetype": "text/x-python",
   "name": "python",
   "nbconvert_exporter": "python",
   "pygments_lexer": "ipython3",
   "version": "3.12.3"
  }
 },
 "nbformat": 4,
 "nbformat_minor": 5
}
