{
 "cells": [
  {
   "cell_type": "code",
   "execution_count": null,
   "id": "d2b70d2e-4410-42eb-a5c1-fe1f9d4d8a7c",
   "metadata": {},
   "outputs": [],
   "source": [
    "import csv\n",
    "%precision 2\n",
    "with open('../mpg.csv') as csvfile:\n",
    "    mpg = list(csv.DictReader(csvfile))\n"
   ]
  }
 ],
 "metadata": {
  "kernelspec": {
   "display_name": "Python 3",
   "language": "python",
   "name": "python3"
  },
  "language_info": {
   "codemirror_mode": {
    "name": "ipython",
    "version": 3
   },
   "file_extension": ".py",
   "mimetype": "text/x-python",
   "name": "python",
   "nbconvert_exporter": "python",
   "pygments_lexer": "ipython3",
   "version": "3.12.3"
  }
 },
 "nbformat": 4,
 "nbformat_minor": 5
}
