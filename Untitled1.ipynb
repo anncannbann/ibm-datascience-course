{
 "cells": [
  {
   "cell_type": "markdown",
   "id": "e0074c00-5841-4d2f-8c63-21c523071c08",
   "metadata": {},
   "source": [
    "\n",
    "# Working with Variables and Expressions in Python\n",
    "\n",
    "\n",
    "Estimated time needed: **10** minutes\n",
    "    \n",
    "\n",
    "## Objectives\n",
    "\n",
    "After completing this lab you will be able to:\n",
    "\n",
    "* Use expressions and variables to perform operations\n"
   ]
  },
  {
   "cell_type": "code",
   "execution_count": 1,
   "id": "551143ec-6c7e-4f31-8e8e-d05fa3de2280",
   "metadata": {},
   "outputs": [
    {
     "data": {
      "text/plain": [
       "5"
      ]
     },
     "execution_count": 1,
     "metadata": {},
     "output_type": "execute_result"
    }
   ],
   "source": [
    "11//2"
   ]
  },
  {
   "cell_type": "code",
   "execution_count": 6,
   "id": "c70494d1-5186-4e3a-b80c-e135ab17c1c7",
   "metadata": {},
   "outputs": [
    {
     "name": "stdout",
     "output_type": "stream",
     "text": [
      "2.0\n"
     ]
    }
   ],
   "source": [
    "x=4\n",
    "x=x/2\n",
    "print(x)"
   ]
  },
  {
   "cell_type": "code",
   "execution_count": 9,
   "id": "574bee94-f96c-4af0-a864-d88db713be50",
   "metadata": {},
   "outputs": [
    {
     "name": "stdout",
     "output_type": "stream",
     "text": [
      "n\n"
     ]
    }
   ],
   "source": [
    "Name = \"micheal Jackson\"\n",
    "print(Name[-1])"
   ]
  },
  {
   "cell_type": "code",
   "execution_count": 10,
   "id": "b90a0885-5472-4e16-80f6-9043bc02e842",
   "metadata": {},
   "outputs": [
    {
     "name": "stdout",
     "output_type": "stream",
     "text": [
      "AB\n",
      "C\n",
      "DE\n"
     ]
    }
   ],
   "source": [
    "print(\"AB\\nC\\nDE\")"
   ]
  },
  {
   "cell_type": "code",
   "execution_count": 11,
   "id": "32d10694-c7c2-4b4a-977f-ec3facbcf4f3",
   "metadata": {},
   "outputs": [
    {
     "data": {
      "text/plain": [
       "5"
      ]
     },
     "execution_count": 11,
     "metadata": {},
     "output_type": "execute_result"
    }
   ],
   "source": [
    "\"helloMike\".find(\"Mike\")"
   ]
  },
  {
   "cell_type": "code",
   "execution_count": 13,
   "id": "e57d48b3-41a7-47a3-98a8-57328b0e40ab",
   "metadata": {},
   "outputs": [
    {
     "name": "stdout",
     "output_type": "stream",
     "text": [
      "2\n"
     ]
    }
   ],
   "source": [
    " x=1\n",
    "\n",
    "x=x+1\n",
    "print(x)"
   ]
  },
  {
   "cell_type": "code",
   "execution_count": 14,
   "id": "dc315b2d-ac16-477b-9e26-20be852a2038",
   "metadata": {},
   "outputs": [
    {
     "data": {
      "text/plain": [
       "7"
      ]
     },
     "execution_count": 14,
     "metadata": {},
     "output_type": "execute_result"
    }
   ],
   "source": [
    "3+2*2"
   ]
  },
  {
   "cell_type": "code",
   "execution_count": 15,
   "id": "fcd6cfd7-1c97-4e17-ad1d-a88c321185d7",
   "metadata": {},
   "outputs": [
    {
     "data": {
      "text/plain": [
       "int"
      ]
     },
     "execution_count": 15,
     "metadata": {},
     "output_type": "execute_result"
    }
   ],
   "source": [
    "type(int(12.3))\n"
   ]
  },
  {
   "cell_type": "code",
   "execution_count": 16,
   "id": "20f22805-37f2-446d-998e-87d745ba87f7",
   "metadata": {},
   "outputs": [
    {
     "data": {
      "text/plain": [
       "1"
      ]
     },
     "execution_count": 16,
     "metadata": {},
     "output_type": "execute_result"
    }
   ],
   "source": [
    "  int(True)"
   ]
  },
  {
   "cell_type": "code",
   "execution_count": 17,
   "id": "d698a3c7-0613-4753-a93c-2af50ab2ac90",
   "metadata": {},
   "outputs": [
    {
     "data": {
      "text/plain": [
       "'12'"
      ]
     },
     "execution_count": 17,
     "metadata": {},
     "output_type": "execute_result"
    }
   ],
   "source": [
    " '1'+'2'\n"
   ]
  },
  {
   "cell_type": "code",
   "execution_count": 18,
   "id": "a58225b3-5514-4ff4-a7d3-90465acc635e",
   "metadata": {},
   "outputs": [
    {
     "data": {
      "text/plain": [
       "'HELLO'"
      ]
     },
     "execution_count": 18,
     "metadata": {},
     "output_type": "execute_result"
    }
   ],
   "source": [
    "'hello'.upper()"
   ]
  },
  {
   "cell_type": "code",
   "execution_count": 19,
   "id": "4028da05-9690-4116-a555-3ff62e3f0422",
   "metadata": {},
   "outputs": [
    {
     "data": {
      "text/plain": [
       "'2'"
      ]
     },
     "execution_count": 19,
     "metadata": {},
     "output_type": "execute_result"
    }
   ],
   "source": [
    " str(1+1)"
   ]
  },
  {
   "cell_type": "code",
   "execution_count": 20,
   "id": "b4699174-9206-4739-a98b-df7e6857c366",
   "metadata": {},
   "outputs": [
    {
     "data": {
      "text/plain": [
       "'abC'"
      ]
     },
     "execution_count": 20,
     "metadata": {},
     "output_type": "execute_result"
    }
   ],
   "source": [
    "\"ABC\".replace(\"AB\", \"ab\")"
   ]
  },
  {
   "cell_type": "code",
   "execution_count": 21,
   "id": "448e9c46-7be6-44dc-8fb5-29209da8aac2",
   "metadata": {},
   "outputs": [
    {
     "data": {
      "text/plain": [
       "float"
      ]
     },
     "execution_count": 21,
     "metadata": {},
     "output_type": "execute_result"
    }
   ],
   "source": [
    "x = 2/2 \n",
    "type(x)"
   ]
  },
  {
   "cell_type": "code",
   "execution_count": 23,
   "id": "89cc8d20-51d3-4bef-9273-6df37c7dc79f",
   "metadata": {},
   "outputs": [
    {
     "data": {
      "text/plain": [
       "'Fun P'"
      ]
     },
     "execution_count": 23,
     "metadata": {},
     "output_type": "execute_result"
    }
   ],
   "source": [
    "x = \"Fun Python\"\n",
    "x[0:5]"
   ]
  },
  {
   "cell_type": "code",
   "execution_count": null,
   "id": "960e2637-1e64-4439-a77a-0fd7a14713ff",
   "metadata": {},
   "outputs": [],
   "source": []
  }
 ],
 "metadata": {
  "kernelspec": {
   "display_name": "Python 3",
   "language": "python",
   "name": "python3"
  },
  "language_info": {
   "codemirror_mode": {
    "name": "ipython",
    "version": 3
   },
   "file_extension": ".py",
   "mimetype": "text/x-python",
   "name": "python",
   "nbconvert_exporter": "python",
   "pygments_lexer": "ipython3",
   "version": "3.12.3"
  }
 },
 "nbformat": 4,
 "nbformat_minor": 5
}
